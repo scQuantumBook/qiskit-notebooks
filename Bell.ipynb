{
 "cells": [
  {
   "cell_type": "markdown",
   "id": "essential-johnson",
   "metadata": {},
   "source": [
    "## Creating a Bell State"
   ]
  },
  {
   "cell_type": "code",
   "execution_count": null,
   "id": "million-minimum",
   "metadata": {},
   "outputs": [],
   "source": [
    "# Import general libraries (needed for functions)\n",
    "import numpy as np\n",
    "import matplotlib.pyplot as plt\n",
    "from qiskit import QuantumCircuit, Aer, assemble, execute\n",
    "from qiskit import QuantumRegister, ClassicalRegister\n",
    "from qiskit.visualization import plot_histogram\n",
    "from qiskit.providers.aer import AerSimulator"
   ]
  },
  {
   "cell_type": "markdown",
   "id": "unusual-replication",
   "metadata": {},
   "source": [
    "Create a circuit"
   ]
  },
  {
   "cell_type": "code",
   "execution_count": null,
   "id": "answering-summit",
   "metadata": {},
   "outputs": [],
   "source": [
    "qr = QuantumRegister(2)\n",
    "r = ClassicalRegister(2)\n",
    "qc = QuantumCircuit(qr,r)\n",
    "qc.h(0)\n",
    "qc.cx(0,1)\n",
    "qc.measure(qr,r)\n",
    "qc.draw('mpl')"
   ]
  },
  {
   "cell_type": "markdown",
   "id": "higher-nerve",
   "metadata": {},
   "source": [
    "Run using an error-free simulator"
   ]
  },
  {
   "cell_type": "code",
   "execution_count": null,
   "id": "technological-centre",
   "metadata": {},
   "outputs": [],
   "source": [
    "from qiskit.providers.aer import QasmSimulator\n",
    "sim = QasmSimulator()"
   ]
  },
  {
   "cell_type": "code",
   "execution_count": null,
   "id": "generous-radiation",
   "metadata": {},
   "outputs": [],
   "source": [
    "job = execute(qc, sim, shots=1024)\n",
    "sim_counts = job.result().get_counts()"
   ]
  },
  {
   "cell_type": "code",
   "execution_count": null,
   "id": "hungarian-valley",
   "metadata": {},
   "outputs": [],
   "source": [
    "plot_histogram(sim_counts)"
   ]
  },
  {
   "cell_type": "markdown",
   "id": "grateful-image",
   "metadata": {},
   "source": [
    "Now create a simulator with a noise model to simulate noisy hardware"
   ]
  },
  {
   "cell_type": "code",
   "execution_count": null,
   "id": "interracial-salad",
   "metadata": {},
   "outputs": [],
   "source": [
    "# Import from Qiskit Aer noise module\n",
    "from qiskit.providers.aer.noise import NoiseModel\n",
    "from qiskit.providers.aer.noise import QuantumError, ReadoutError\n",
    "from qiskit.providers.aer.noise import pauli_error"
   ]
  },
  {
   "cell_type": "code",
   "execution_count": null,
   "id": "average-paris",
   "metadata": {},
   "outputs": [],
   "source": [
    "# Example noise model, from https://qiskit.org/documentation/tutorials/simulators/3_building_noise_models.html\n",
    "# Example error probabilities\n",
    "p_reset = 0.03  # when reset to 0, result is 1 with probability 0.03\n",
    "p_meas = 0.1    # when measuring, flip the state with probability 0.1\n",
    "p_gate1 = 0.05  # when applying a single-qubit gate, flip the outcome with probability 0.05\n",
    "\n",
    "# QuantumError objects\n",
    "error_reset = pauli_error([('X', p_reset), ('I', 1 - p_reset)])\n",
    "error_meas = pauli_error([('X',p_meas), ('I', 1 - p_meas)])\n",
    "error_gate1 = pauli_error([('X',p_gate1), ('I', 1 - p_gate1)])\n",
    "error_gate2 = error_gate1.tensor(error_gate1)\n",
    "\n",
    "# Add errors to noise model\n",
    "noise_bit_flip = NoiseModel()\n",
    "noise_bit_flip.add_all_qubit_quantum_error(error_reset, \"reset\")\n",
    "noise_bit_flip.add_all_qubit_quantum_error(error_meas, \"measure\")\n",
    "noise_bit_flip.add_all_qubit_quantum_error(error_gate1, [\"u1\", \"u2\", \"u3\"])\n",
    "noise_bit_flip.add_all_qubit_quantum_error(error_gate2, [\"cx\"])"
   ]
  },
  {
   "cell_type": "code",
   "execution_count": null,
   "id": "architectural-serve",
   "metadata": {},
   "outputs": [],
   "source": [
    "# Create noisy simulator backend\n",
    "sim_noise = AerSimulator(noise_model=noise_bit_flip)\n",
    "\n",
    "job = execute(qc, sim_noise, shots=1024)\n",
    "noise_sim_counts = job.result().get_counts()\n",
    "\n",
    "# Plot noisy output\n",
    "plot_histogram(noise_sim_counts)"
   ]
  },
  {
   "cell_type": "code",
   "execution_count": null,
   "id": "varied-williams",
   "metadata": {},
   "outputs": [],
   "source": []
  }
 ],
 "metadata": {
  "kernelspec": {
   "display_name": "Python 3",
   "language": "python",
   "name": "python3"
  },
  "language_info": {
   "codemirror_mode": {
    "name": "ipython",
    "version": 3
   },
   "file_extension": ".py",
   "mimetype": "text/x-python",
   "name": "python",
   "nbconvert_exporter": "python",
   "pygments_lexer": "ipython3",
   "version": "3.8.5"
  }
 },
 "nbformat": 4,
 "nbformat_minor": 5
}
