{
 "cells": [
  {
   "cell_type": "markdown",
   "id": "optical-benefit",
   "metadata": {},
   "source": [
    "### Principles of Superconducting Quantum Computers\n",
    "Daniel D. Stancil, Gregory T. Byrd, Wiley, 2002  ISBN: [978-1119750727](https://bcs.wiley.com/he-bcs/Books?action=index&bcsId=12203&itemId=1119750725)\n",
    "\n",
    "----"
   ]
  },
  {
   "cell_type": "markdown",
   "id": "essential-johnson",
   "metadata": {},
   "source": [
    "## Chapter 1: Qubits, Gates, and Circuits\n",
    "## Creating a Bell State\n",
    "\n",
    "In section 1.6, we describe a simple maximally-entangled state, known as a *Bell state*: $$|\\Phi^+\\rangle = \\frac{1}{\\sqrt{2}}(|00\\rangle + |11\\rangle)$$\n",
    "\n",
    "In this notebook, we use Qiskit to create and measure the Bell state, and we explore the creation of other entangled states."
   ]
  },
  {
   "cell_type": "code",
   "execution_count": null,
   "id": "million-minimum",
   "metadata": {},
   "outputs": [],
   "source": [
    "import numpy as np\n",
    "import matplotlib.pyplot as plt\n",
    "from qiskit import QuantumCircuit, QuantumRegister, ClassicalRegister, execute\n",
    "from qiskit.visualization import plot_histogram, array_to_latex\n",
    "from qiskit.providers.aer import QasmSimulator\n",
    "from qiskit.quantum_info import Statevector"
   ]
  },
  {
   "cell_type": "markdown",
   "id": "unusual-replication",
   "metadata": {},
   "source": [
    "#### Creating the Circuit\n",
    "\n",
    "To create the Bell state, we use a CNOT gate where the control qubit is in a superposition of $|0\\rangle$ and $|1\\rangle$. The target qubit is initialized to $|0\\rangle$. \n",
    "\n",
    "- When the control qubit is 0, the target qubit is unchanged, resulting in an output state of $|00\\rangle$. \n",
    "- When the control qubit is 1, the target qubit is flipped, resulting in $|11\\rangle$."
   ]
  },
  {
   "cell_type": "code",
   "execution_count": null,
   "id": "answering-summit",
   "metadata": {},
   "outputs": [],
   "source": [
    "qr = QuantumRegister(2, 'q')\n",
    "m = ClassicalRegister(2, 'm')\n",
    "qc = QuantumCircuit(qr,m)\n",
    "qc.h(0)\n",
    "qc.cx(0,1)\n",
    "qc.measure(qr,m)\n",
    "qc.draw('mpl')"
   ]
  },
  {
   "cell_type": "markdown",
   "id": "higher-nerve",
   "metadata": {},
   "source": [
    "#### Simulate the circuit\n",
    "\n",
    "To see how the circuit behaves, we run an error-free simulation. The circuit is executed 1024 times, and the simulator keeps track of the different measured outputs, as well as the number of times each output occurs. The results are kept in a Python dictionary object -- you will see the output as a string of two bits ('00' or '11') and the count for each.\n",
    "\n",
    "You can run this simulation multiple times. You will likely see a slightly different count each time. Because the outcome is probabilistic, and each outcome has a probability of $1/2$, you should see approximately 512 occurrences of '00' and 512 occurrences of '11."
   ]
  },
  {
   "cell_type": "code",
   "execution_count": null,
   "id": "technological-centre",
   "metadata": {},
   "outputs": [],
   "source": [
    "sim = QasmSimulator()\n",
    "job = execute(qc, sim, shots=1024)\n",
    "sim_counts = job.result().get_counts()\n",
    "print(sim_counts)"
   ]
  },
  {
   "cell_type": "code",
   "execution_count": null,
   "id": "hungarian-valley",
   "metadata": {},
   "outputs": [],
   "source": [
    "plot_histogram(sim_counts)"
   ]
  },
  {
   "cell_type": "markdown",
   "id": "grateful-image",
   "metadata": {},
   "source": [
    "To model a more realistic quantum computer, which is not error-free, we add a noise model to the simulator."
   ]
  },
  {
   "cell_type": "code",
   "execution_count": null,
   "id": "interracial-salad",
   "metadata": {},
   "outputs": [],
   "source": [
    "# Import from Qiskit Aer noise module\n",
    "from qiskit.providers.aer.noise import NoiseModel\n",
    "from qiskit.providers.aer.noise import QuantumError, ReadoutError\n",
    "from qiskit.providers.aer.noise import pauli_error, depolarizing_error"
   ]
  },
  {
   "cell_type": "markdown",
   "id": "suspected-correlation",
   "metadata": {},
   "source": [
    "For this particular example, we set the following error probabilities:\n",
    "\n",
    "- For the single-qubit Hadamard gate, a Z error (phase flip) occurs with 0.8% probability.\n",
    "- For the two-qubit CNOT gate, an error occurs with 8% probability. Two-qubit gates are more complex and are significantly more error prone in current quantum hardware.\n",
    "- Errors can also occur during the measurement process. We give a 3% chance of the measurement being wrong."
   ]
  },
  {
   "cell_type": "code",
   "execution_count": null,
   "id": "serial-trauma",
   "metadata": {},
   "outputs": [],
   "source": [
    "# Example noise model, from https://qiskit.org/documentation/tutorials/simulators/3_building_noise_models.html\n",
    "# \n",
    "p_gate1 = 0.008  \n",
    "p_gate2 = 0.08   \n",
    "p_meas = 0.03\n",
    "\n",
    "# QuantumError objects\n",
    "error_gate1 = pauli_error([('Z',p_gate1), ('I', 1 - p_gate1)]) # since the 1q gates is H, we'll do a phase flip\n",
    "error_gate2 = depolarizing_error(p_gate2, 2)\n",
    "error_meas = pauli_error([('X',p_meas), ('I', 1 - p_meas)])\n",
    "\n",
    "# Add errors to noise model\n",
    "noise_bit_flip = NoiseModel()\n",
    "noise_bit_flip.add_all_qubit_quantum_error(error_gate1, [\"u1\", \"u2\", \"u3\"])\n",
    "noise_bit_flip.add_all_qubit_quantum_error(error_gate2, [\"cx\"])\n",
    "noise_bit_flip.add_all_qubit_quantum_error(error_meas, [\"measure\"])"
   ]
  },
  {
   "cell_type": "code",
   "execution_count": null,
   "id": "architectural-serve",
   "metadata": {},
   "outputs": [],
   "source": [
    "# Create noisy simulator backend\n",
    "sim_noise = QasmSimulator(noise_model=noise_bit_flip)\n",
    "job = execute(qc, sim_noise, shots=1024)\n",
    "noise_sim_counts = job.result().get_counts()\n",
    "print(noise_sim_counts)"
   ]
  },
  {
   "cell_type": "code",
   "execution_count": null,
   "id": "varied-williams",
   "metadata": {},
   "outputs": [],
   "source": [
    "plot_histogram(noise_sim_counts)"
   ]
  },
  {
   "cell_type": "markdown",
   "id": "sensitive-execution",
   "metadata": {},
   "source": [
    "When errors occur, incorrect states can be created. In this case we see a small number of '01' and '10' results, although theory tells us that there should be zero probability of seeing these results.\n",
    "\n",
    "Because the error rate is relatively small, the expected outputs are still the most prevalent."
   ]
  },
  {
   "cell_type": "markdown",
   "id": "naughty-vermont",
   "metadata": {},
   "source": [
    "#### Viewing the State Vector\n",
    "\n",
    "For some computations, the desire is to create a specific quantum state. As we've discussed, the full quantum state is not accessible on a quantum computer, because we can only measure and get a single (classical) bit string. We cannot see the magnitudes and phases for each basis state.\n",
    "\n",
    "Luckily, when using a simulator, we have full access to the quantum state. This is a useful tool, when developing or analyzing quantum computations.\n",
    "\n",
    "If we're only interested in the state vector, we can skip the measurement part of the circuit.  (Measuring would collapse the state and lose the information we're looking for.)"
   ]
  },
  {
   "cell_type": "code",
   "execution_count": null,
   "id": "exposed-sharp",
   "metadata": {},
   "outputs": [],
   "source": [
    "qr = QuantumRegister(2, 'q')\n",
    "qc = QuantumCircuit(qr)\n",
    "qc.h(0)\n",
    "qc.cx(0,1)\n",
    "qc.draw('mpl')"
   ]
  },
  {
   "cell_type": "markdown",
   "id": "configured-guard",
   "metadata": {},
   "source": [
    "In Qiskit, we can use the *state vector simulator*, or we can just allow the system to analyze the unitary transform performed by the circuit and create a state vector object."
   ]
  },
  {
   "cell_type": "code",
   "execution_count": null,
   "id": "superb-attendance",
   "metadata": {},
   "outputs": [],
   "source": [
    "bell_sv = Statevector.from_instruction(qc)\n",
    "print(bell_sv)"
   ]
  },
  {
   "cell_type": "markdown",
   "id": "tight-arena",
   "metadata": {},
   "source": [
    "The state vector is printed in computational basis order: 00, 01, 10, 11. This is not easy to interpret, so we can write some code to display the values in a more visually accessible way."
   ]
  },
  {
   "cell_type": "code",
   "execution_count": null,
   "id": "roman-routine",
   "metadata": {},
   "outputs": [],
   "source": [
    "array_to_latex(bell_sv.data)"
   ]
  },
  {
   "cell_type": "code",
   "execution_count": null,
   "id": "behind-league",
   "metadata": {},
   "outputs": [],
   "source": [
    "def binstring(n, bits):\n",
    "    s = \"\"\n",
    "    for b in range(bits-1, -1, -1):\n",
    "        s += str((n >> b) & 1)\n",
    "    return s\n",
    "        \n",
    "\n",
    "def print_state_vector(sv):\n",
    "    bits = sv.num_qubits\n",
    "    vals = sv.dim\n",
    "    for i in range(0, vals):\n",
    "        #print_bin(i, bits)\n",
    "        mag = np.abs(sv.data[i])\n",
    "        ph = np.angle(sv.data[i], True)  # degrees\n",
    "        print(\"{:s}: {:.3f}  mag={:.3f} phase={:.3f} ({:3.2%})\".format(binstring(i, bits), sv.data[i], mag, ph, mag**2))   "
   ]
  },
  {
   "cell_type": "code",
   "execution_count": null,
   "id": "mexican-involvement",
   "metadata": {},
   "outputs": [],
   "source": [
    "print_state_vector(bell_sv)"
   ]
  },
  {
   "cell_type": "markdown",
   "id": "muslim-desire",
   "metadata": {},
   "source": [
    "To illustrate the usefulness of showing the state vector, consider another Bell state: $$|\\Phi^-\\rangle = \\frac{1}{\\sqrt{2}}(|00\\rangle - |11\\rangle)$$\n",
    "\n",
    "There is a local phase difference (of 180 degrees) between the $|00\\rangle$ and the $|11\\rangle$. We can generate the state by using $|-\\rangle$ as the control qubit instead of $|+\\rangle$, as shown in the circuit below."
   ]
  },
  {
   "cell_type": "code",
   "execution_count": null,
   "id": "continuous-branch",
   "metadata": {},
   "outputs": [],
   "source": [
    "qr = QuantumRegister(2, 'q')\n",
    "qc = QuantumCircuit(qr)\n",
    "qc.x(0)\n",
    "qc.h(0)\n",
    "qc.cx(0,1)\n",
    "qc.draw('mpl')"
   ]
  },
  {
   "cell_type": "markdown",
   "id": "unusual-confidence",
   "metadata": {},
   "source": [
    "Viewing the state vector clearly shows the phase difference:"
   ]
  },
  {
   "cell_type": "code",
   "execution_count": null,
   "id": "eight-allowance",
   "metadata": {},
   "outputs": [],
   "source": [
    "bell_sv = Statevector.from_instruction(qc)\n",
    "print_state_vector(bell_sv)"
   ]
  },
  {
   "cell_type": "markdown",
   "id": "continent-belief",
   "metadata": {},
   "source": [
    "However, if we simulate and measure, the outcome is the same as the previous Bell state. The phase is not seen by the measurement, and the magnitude determines the probability. Since the magnitude is the same as before, both outcomes have a 50% chance of being observed."
   ]
  },
  {
   "cell_type": "code",
   "execution_count": null,
   "id": "fancy-buffer",
   "metadata": {},
   "outputs": [],
   "source": [
    "m = ClassicalRegister(2, 'm')\n",
    "qc.add_register(m)\n",
    "qc.measure(qr, m)\n",
    "job = execute(qc, sim, shots=1024)\n",
    "sim_counts = job.result().get_counts()\n",
    "plot_histogram(sim_counts)"
   ]
  },
  {
   "cell_type": "markdown",
   "id": "pediatric-fundamentals",
   "metadata": {},
   "source": [
    "#### Exercises\n",
    "\n",
    "There are a total of four Bell state -- two more, in addition to the ones shown above.\n",
    "$$|\\Psi^+\\rangle = \\frac{1}{\\sqrt{2}}(|01\\rangle + |10\\rangle)$$\n",
    "$$|\\Psi^-\\rangle = \\frac{1}{\\sqrt{2}}(|01\\rangle - |10\\rangle)$$\n",
    "\n",
    "In the cells below, create circuits to generate the desired states, and show the state vectors when the circuits are applied to a starting state of $|00\\rangle$."
   ]
  },
  {
   "cell_type": "markdown",
   "id": "identical-archives",
   "metadata": {},
   "source": [
    "- Circuit for $|\\Psi^+\\rangle$"
   ]
  },
  {
   "cell_type": "code",
   "execution_count": null,
   "id": "private-blowing",
   "metadata": {},
   "outputs": [],
   "source": []
  },
  {
   "cell_type": "markdown",
   "id": "celtic-conducting",
   "metadata": {},
   "source": [
    "- State vector for $|\\Psi^+\\rangle$"
   ]
  },
  {
   "cell_type": "code",
   "execution_count": null,
   "id": "latest-singer",
   "metadata": {},
   "outputs": [],
   "source": []
  },
  {
   "cell_type": "markdown",
   "id": "moved-analysis",
   "metadata": {},
   "source": [
    "- Circuit for $|\\Psi^-\\rangle$"
   ]
  },
  {
   "cell_type": "code",
   "execution_count": null,
   "id": "personalized-concord",
   "metadata": {},
   "outputs": [],
   "source": []
  },
  {
   "cell_type": "markdown",
   "id": "korean-north",
   "metadata": {},
   "source": [
    "- State vector for $|\\Psi^-\\rangle$"
   ]
  },
  {
   "cell_type": "code",
   "execution_count": null,
   "id": "visible-rates",
   "metadata": {},
   "outputs": [],
   "source": []
  }
 ],
 "metadata": {
  "kernelspec": {
   "display_name": "Python 3",
   "language": "python",
   "name": "python3"
  },
  "language_info": {
   "codemirror_mode": {
    "name": "ipython",
    "version": 3
   },
   "file_extension": ".py",
   "mimetype": "text/x-python",
   "name": "python",
   "nbconvert_exporter": "python",
   "pygments_lexer": "ipython3",
   "version": "3.8.5"
  }
 },
 "nbformat": 4,
 "nbformat_minor": 5
}
