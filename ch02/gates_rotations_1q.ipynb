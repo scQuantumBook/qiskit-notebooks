{
 "cells": [
  {
   "cell_type": "markdown",
   "id": "colonial-identification",
   "metadata": {},
   "source": [
    "### Principles of Superconducting Quantum Computers\n",
    "Daniel D. Stancil, Gregory T. Byrd, Wiley, 2022  ISBN: [978-1119750727](https://bcs.wiley.com/he-bcs/Books?action=index&bcsId=12203&itemId=1119750725)\n",
    "\n",
    "----"
   ]
  },
  {
   "cell_type": "markdown",
   "id": "streaming-poetry",
   "metadata": {},
   "source": [
    "## Chapter 2: Physics of Single Qubit Gates\n",
    "### Gates and Rotations\n",
    "\n",
    "As described in section 2.2, the operation of a gate can be described as a rotation along the surface of the Bloch sphere. Clockwise rotations around the three axes are described by the following matrices:\n",
    "\n",
    "$$R_x(\\theta) = e^{-i \\frac{\\theta}{2} \\sigma^x} = \\begin{bmatrix} \\cos \\frac{\\theta}{2} & -i \\sin \\frac{\\theta}{2} \\\\ -i \\sin \\frac{\\theta}{2} & \\cos \\frac{\\theta}{2} \\end{bmatrix}$$\n",
    "\n",
    "$$R_y(\\theta) = e^{-i \\frac{\\theta}{2} \\sigma^y} = \\begin{bmatrix} \\cos \\frac{\\theta}{2} & - \\sin \\frac{\\theta}{2} \\\\ \\sin \\frac{\\theta}{2} & \\cos \\frac{\\theta}{2} \\end{bmatrix}$$\n",
    "\n",
    "$$R_z(\\theta) = e^{-i \\frac{\\theta}{2} \\sigma^z} = \\begin{bmatrix} e^{-i \\theta/2} & 0 \\\\ 0 & e^{i \\theta/2} \\end{bmatrix}$$\n",
    "\n",
    "Starting from the $|0\\rangle$ position, we can get to any other point on the sphere with two rotations:\n",
    "1. Rotate around the Y axis by an angle $\\theta$.\n",
    "1. Rotate around the Z axis by an angle $\\phi$.\n",
    "\n",
    "As derived in the book:\n",
    "\n",
    "$$R_z(\\phi)R_y(\\theta)|0\\rangle = e^{-i\\phi/2}(\\cos \\frac{\\theta}{2} |0\\rangle + e^{i \\phi} \\sin \\frac{\\theta}{2}|1\\rangle)$$\n",
    "\n",
    "The *global phase* of $- \\phi/2$ does not matter; in fact, two states that differ only by a global phase are indistinguishable. It's common, therefore, to consider angles $\\theta$ and $\\phi$ when viewing the Bloch sphere. (A global phase is analogous to rotating the entire sphere, rather than rotating around an axis.)\n"
   ]
  },
  {
   "cell_type": "code",
   "execution_count": 1,
   "id": "reduced-philadelphia",
   "metadata": {},
   "outputs": [],
   "source": [
    "from ipywidgets import interact\n",
    "import ipywidgets as widgets\n",
    "from kaleidoscope import bloch_sphere\n",
    "import numpy as np\n",
    "from rotations import *  # functions specific to this notebook"
   ]
  },
  {
   "cell_type": "code",
   "execution_count": 2,
   "id": "annoying-secret",
   "metadata": {},
   "outputs": [],
   "source": [
    "# if the Bloch spheres stop rendering, try executing this cell\n",
    "import plotly.io as pio\n",
    "pio.renderers.default='notebook'"
   ]
  },
  {
   "cell_type": "markdown",
   "id": "meaning-convenience",
   "metadata": {},
   "source": [
    "Use the text boxes below to convince yourself by entering angles for $\\theta$ and $\\phi$. You should be able to reach all other points of the sphere. Each angle is entered as a multiple of $\\pi$ -- e.g., a value of $1.5$ for $\\frac{3\\pi}{2}$. Note that we use the `rz` and `ry` gates from Qiskit to perform the Z and Y rotations."
   ]
  },
  {
   "cell_type": "code",
   "execution_count": 3,
   "id": "physical-aberdeen",
   "metadata": {
    "scrolled": false
   },
   "outputs": [
    {
     "data": {
      "application/vnd.jupyter.widget-view+json": {
       "model_id": "444bc10cc75348549498334730a1c6c3",
       "version_major": 2,
       "version_minor": 0
      },
      "text/plain": [
       "HBox(children=(Output(), VBox(children=(BoundedFloatText(value=0.0, description='Y angle: θ / π', max=2.0, min…"
      ]
     },
     "metadata": {},
     "output_type": "display_data"
    }
   ],
   "source": [
    "angley = widgets.BoundedFloatText(value = 0, min = -2, max = 2, step = 0.05, description='Y angle: \\u03B8 / \\u03C0')\n",
    "anglez = widgets.BoundedFloatText(value = 0, min = -2, max = 2, step = 0.05, description='Z angle: \\u03C6 / \\u03C0')\n",
    "sphere = widgets.interactive_output(show_yz, {'theta': angley, 'phi': anglez})\n",
    "angles = widgets.VBox([angley, anglez])\n",
    "angles.layout.align_items='center'\n",
    "angles.layout.align_content='center'\n",
    "widgets.HBox([sphere, angles])"
   ]
  },
  {
   "cell_type": "markdown",
   "id": "controlled-enforcement",
   "metadata": {},
   "source": [
    "While this works well when starting at $|0\\rangle$, it's not a general transformation. Consider starting at position $|{+y}\\rangle$: the Y rotation has no effect, so you could only reach points along the equator.\n",
    "\n",
    "NOTE: In the text, the points at the extreme of the $y$-axis are known as $|i\\rangle$ and $|{-i}\\rangle$. Another common notation is $|r\\rangle$ and $|l\\rangle$ (for \"right\" and \"left\"). This is the notation used in the illustration below, and is used by Qiskit to initialize a state vector.\n",
    "\n",
    "For a general gate description, we need three rotations, similar to the three axes of rotation of a classical object: pitch, roll, and yaw. There are many conventions for specifying a general rotation. We will use ZYZ, because $z$-axis rotations can be performed easily in superconducting quantum computers.\n",
    "\n",
    "In the following, choose a starting point, and then specify three angles for the following rotations:\n",
    "1. Rotate around the Z axis by angle $\\lambda$.\n",
    "1. Rotate around the Y axis by angle $\\theta$.\n",
    "1. Rotate around the Z axis by angle $\\phi$.\n",
    "\n",
    "Following the Qiskit convention, we call this `u3`, and it represents the most general single-qubit unitary gate, ignoring the global phase that results from performing the three rotations.\n",
    "\n",
    "$$u3(\\theta,\\phi,\\lambda) = \\begin{bmatrix} \\cos \\frac{\\theta}{2} & -e^{i\\lambda} \\sin \\frac{\\theta}{2} \\\\\n",
    "                                e^{i\\phi} \\sin \\frac{\\theta}{2} & e^{i(\\phi + \\lambda)} \\cos \\frac{\\theta}{2} \n",
    "                                \\end{bmatrix}$$"
   ]
  },
  {
   "cell_type": "code",
   "execution_count": 4,
   "id": "peripheral-modern",
   "metadata": {},
   "outputs": [
    {
     "data": {
      "application/vnd.jupyter.widget-view+json": {
       "model_id": "25d99e24804f4ee986b0b47c9b2dd2ab",
       "version_major": 2,
       "version_minor": 0
      },
      "text/plain": [
       "HBox(children=(Output(), VBox(children=(Dropdown(description='start', index=2, options=('0', '1', '+', '-', 'r…"
      ]
     },
     "metadata": {},
     "output_type": "display_data"
    }
   ],
   "source": [
    "style = {'description_width': '110px'}\n",
    "pos = widgets.Dropdown(options=['0', '1', '+', '-', 'r', 'l'], value='+', description='start', style=style)\n",
    "z1 = widgets.BoundedFloatText(value = 0, min = -2, max = 2, step = 0.05, description='1st Z angle: \\u03BB / \\u03C0',\n",
    "                             style=style)\n",
    "y = widgets.BoundedFloatText(value = 0, min = -2, max = 2, step = 0.05, description='Y angle: \\u03B8 / \\u03C0',\n",
    "                            style=style)\n",
    "z2 = widgets.BoundedFloatText(value = 0, min = -2, max = 2, step = 0.05, description='2nd Z angle: \\u03C6 / \\u03C0',\n",
    "                             style=style)\n",
    "sphere = widgets.interactive_output(show_zyz, {'start': pos, 'lbda': z1, 'theta': y, 'phi': z2})\n",
    "params = widgets.VBox([pos, z1, y, z2])\n",
    "params.layout.align_items='center'\n",
    "params.layout.align_content='center'\n",
    "widgets.HBox([sphere, params])"
   ]
  },
  {
   "cell_type": "markdown",
   "id": "operational-prayer",
   "metadata": {},
   "source": [
    "#### Exercises\n",
    "Using the interactive illustration above, demonstrate the following equivalences described in the book for the Qiskit universal gate: $u3(\\theta, \\psi, \\lambda).  Pay attention to the order of angles in the parameter list. Try with different starting points to convince yourself that the gate acts correctly.\n",
    "\n",
    "$$ X = u3(\\pi, 0, \\pi)$$\n",
    "\n",
    "$$ Y = u3(\\pi, \\pi/2, \\pi/2)$$\n",
    "\n",
    "$$ H = u3(\\pi/2, 0, \\pi)$$"
   ]
  },
  {
   "cell_type": "markdown",
   "id": "excellent-lover",
   "metadata": {},
   "source": [
    "----"
   ]
  },
  {
   "cell_type": "code",
   "execution_count": 5,
   "id": "thorough-portsmouth",
   "metadata": {},
   "outputs": [
    {
     "data": {
      "text/html": [
       "<h3>Version Information</h3><table><tr><th>Qiskit Software</th><th>Version</th></tr><tr><td><code>qiskit-terra</code></td><td>0.20.2</td></tr><tr><td><code>qiskit-aer</code></td><td>0.10.4</td></tr><tr><td><code>qiskit-ignis</code></td><td>0.7.1</td></tr><tr><td><code>qiskit-ibmq-provider</code></td><td>0.19.1</td></tr><tr><td><code>qiskit-aqua</code></td><td>0.9.5</td></tr><tr><td><code>qiskit</code></td><td>0.36.2</td></tr><tr><th>System information</th></tr><tr><td>Python version</td><td>3.8.5</td></tr><tr><td>Python compiler</td><td>MSC v.1916 64 bit (AMD64)</td></tr><tr><td>Python build</td><td>default, Sep  3 2020 21:29:08</td></tr><tr><td>OS</td><td>Windows</td></tr><tr><td>CPUs</td><td>4</td></tr><tr><td>Memory (Gb)</td><td>15.595874786376953</td></tr><tr><td colspan='2'>Fri Jul 01 13:34:42 2022 Eastern Daylight Time</td></tr></table>"
      ],
      "text/plain": [
       "<IPython.core.display.HTML object>"
      ]
     },
     "metadata": {},
     "output_type": "display_data"
    }
   ],
   "source": [
    "import qiskit.tools.jupyter\n",
    "%qiskit_version_table"
   ]
  },
  {
   "cell_type": "code",
   "execution_count": null,
   "id": "incorrect-reply",
   "metadata": {},
   "outputs": [],
   "source": []
  }
 ],
 "metadata": {
  "kernelspec": {
   "display_name": "Python 3",
   "language": "python",
   "name": "python3"
  },
  "language_info": {
   "codemirror_mode": {
    "name": "ipython",
    "version": 3
   },
   "file_extension": ".py",
   "mimetype": "text/x-python",
   "name": "python",
   "nbconvert_exporter": "python",
   "pygments_lexer": "ipython3",
   "version": "3.8.5"
  }
 },
 "nbformat": 4,
 "nbformat_minor": 5
}
